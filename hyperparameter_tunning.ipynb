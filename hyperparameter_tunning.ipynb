{
 "cells": [
  {
   "cell_type": "code",
   "execution_count": 1,
   "metadata": {},
   "outputs": [],
   "source": [
    "#Import all required library\n",
    "import pandas as pd  \n",
    "import matplotlib.pyplot as pyplot\n",
    "import sklearn\n",
    "\n",
    "from textwrap import wrap\n",
    "from sklearn import tree\n",
    "from sklearn.model_selection import StratifiedKFold\n",
    "from sklearn.model_selection import GridSearchCV\n",
    "from sklearn.ensemble import RandomForestClassifier\n"
   ]
  },
  {
   "cell_type": "code",
   "execution_count": 2,
   "metadata": {},
   "outputs": [
    {
     "data": {
      "image/png": "[encoded data removed]",
      "text/plain": [
       "<Figure size 432x288 with 1 Axes>"
      ]
     },
     "metadata": {
      "needs_background": "light"
     },
     "output_type": "display_data"
    },
    {
     "name": "stdout",
     "output_type": "stream",
     "text": [
      "Done! Please see your results in OUTPUT folder\n"
     ]
    }
   ],
   "source": [
    "##Tunning hyperparameter: number of trees from 1 to 150 \n",
    "\n",
    "#read train_data\n",
    "X_train = pd.read_csv('Data/train_data/70_holdout_X_train_len7_RW.csv')\n",
    "Y_train = pd.read_csv('Data/train_data/70_holdout_Y_train_len7_RW.csv')\n",
    "\n",
    "#read test_data\n",
    "X_test = pd.read_csv('Data/test_data/30_holdout_X_test_len7_RW.csv')\n",
    "Y_test = pd.read_csv('Data/test_data/30_holdout_Y_test_len7_RW.csv')\n",
    "\n",
    "#set hyperparameter tunning result plot name\n",
    "hyper_plot_name = 'RW-L7: Hyperparameter tunning: RF'\n",
    "\n",
    "#Random forrest tune\n",
    "model = RandomForestClassifier(random_state=100)\n",
    "n_estimators = range(1, 151, 1)\n",
    "criterion=('gini')\n",
    "param_grid = dict(n_estimators=n_estimators)\n",
    "kfold = StratifiedKFold(n_splits=10, shuffle=True, random_state=100)\n",
    "grid_search = GridSearchCV(model, param_grid, cv=kfold, scoring=\"f1\")\n",
    "grid_result = grid_search.fit(X_train, Y_train['class'])\n",
    "\n",
    "\n",
    "\n",
    "# create file for summarize results\n",
    "best_para=str(\"Best: %f using %s\" % (grid_result.best_score_, grid_result.best_params_))\n",
    "means = grid_result.cv_results_['mean_test_score']\n",
    "stds = grid_result.cv_results_['std_test_score']\n",
    "params = grid_result.cv_results_['params']\n",
    "\n",
    "\n",
    "#collect each iterative of tuning result\n",
    "report_tune_df=pd.DataFrame(grid_result.cv_results_)\n",
    "report_tune_df['Experiment']= hyper_plot_name\n",
    "report_tune_df.to_csv('OUTPUT/'+ 'example_tuned_result.csv', index=False)\n",
    "\n",
    "\n",
    "\n",
    "\n",
    "# plot scale parameter tuning\n",
    "pyplot.ylim(0,1)\n",
    "pyplot.xlim(1,150)\n",
    "pyplot.errorbar(n_estimators, means, yerr=stds, color='b')\n",
    "pyplot.title(\"\\n\".join(wrap(hyper_plot_name,40)), fontsize=14)\n",
    "pyplot.xlabel('Number of tree', fontsize=16)\n",
    "pyplot.ylabel('F1-Score', fontsize=16)\n",
    "pyplot.show()\n",
    "\n",
    "\n",
    "print('Done! Please see your results in folder: OUTPUT')\n"
   ]
  }
 ],
 "metadata": {
  "kernelspec": {
   "display_name": "Python 3",
   "language": "python",
   "name": "python3"
  },
  "language_info": {
   "codemirror_mode": {
    "name": "ipython",
    "version": 3
   },
   "file_extension": ".py",
   "mimetype": "text/x-python",
   "name": "python",
   "nbconvert_exporter": "python",
   "pygments_lexer": "ipython3",
   "version": "3.7.1"
  }
 },
 "nbformat": 4,
 "nbformat_minor": 2
}
