{
 "cells": [
  {
   "cell_type": "code",
   "execution_count": null,
   "metadata": {},
   "outputs": [],
   "source": [
    "#Here we use Random within model length 7 as an example to show the model training process. \n",
    "#For other model, Please change the input data to before training."
   ]
  },
  {
   "cell_type": "code",
   "execution_count": 3,
   "metadata": {},
   "outputs": [],
   "source": [
    "#Import all required library\n",
    "import pandas as pd  \n",
    "import numpy as np  \n",
    "import matplotlib.pyplot as plt\n",
    "import sklearn\n",
    "import pickle\n",
    "\n",
    "from textwrap import wrap\n",
    "import sklearn.metrics as metrics\n",
    "from sklearn.metrics import roc_auc_score\n",
    "from sklearn import tree\n",
    "from sklearn.ensemble import RandomForestClassifier\n",
    "from sklearn.metrics import confusion_matrix, accuracy_score, precision_score, recall_score, f1_score,  classification_report\n",
    "\n",
    "class color:\n",
    "   PURPLE = '\\033[95m'\n",
    "   CYAN = '\\033[96m'\n",
    "   DARKCYAN = '\\033[36m'\n",
    "   BLUE = '\\033[94m'\n",
    "   GREEN = '\\033[92m'\n",
    "   YELLOW = '\\033[93m'\n",
    "   RED = '\\033[91m'\n",
    "   BOLD = '\\033[1m'\n",
    "   UNDERLINE = '\\033[4m'\n",
    "   END = '\\033[0m'\n"
   ]
  },
  {
   "cell_type": "code",
   "execution_count": 26,
   "metadata": {},
   "outputs": [
    {
     "name": "stdout",
     "output_type": "stream",
     "text": [
      "\u001b[1m\u001b[4mModel Evaluation: Random Forest \n",
      "\u001b[0m\n",
      "\u001b[1m\t\t\t\tConfusion Matrix\u001b[0m\n",
      "\u001b[1m\t\t\tPredict non-interact\t\tPredict interact\u001b[0m\n",
      "\u001b[1mActual non-interact\t\t\u001b[0m  2872\t\t\t\t   17\n",
      "\u001b[1mActual interact\t\t\t\u001b[0m    11\t\t\t\t 2877\n",
      "\n",
      "\n",
      "\u001b[1mPrecision (PPV): \u001b[0m 0.9941 \t\u001b[1mRecall: \u001b[0m 0.9962 \n",
      "\u001b[1mAccuracy: \u001b[0m 0.9952 \t \t\u001b[1mF1-score: \u001b[0m 0.9952 \n",
      "\u001b[1mNPV: \u001b[0m 0.996 \t \t \t\u001b[1mSpecificity: \u001b[0m 0.9941 \n",
      " \n",
      "\n",
      "\u001b[1mClassification Report: \n",
      "\u001b[0m               precision    recall  f1-score   support\n",
      "\n",
      "           0       1.00      0.99      1.00      2889\n",
      "           1       0.99      1.00      1.00      2888\n",
      "\n",
      "    accuracy                           1.00      5777\n",
      "   macro avg       1.00      1.00      1.00      5777\n",
      "weighted avg       1.00      1.00      1.00      5777\n",
      "\n"
     ]
    },
    {
     "data": {
      "image/png": "[encoded data removed]",
      "text/plain": [
       "<Figure size 432x288 with 1 Axes>"
      ]
     },
     "metadata": {
      "needs_background": "light"
     },
     "output_type": "display_data"
    }
   ],
   "source": [
    "#For model construction, Random Forest with 100 trees\n",
    "\n",
    "#read train_data\n",
    "X_train = pd.read_csv('Data/train_data/70_holdout_X_train_len7_RW.csv')\n",
    "Y_train = pd.read_csv('Data/train_data/70_holdout_Y_train_len7_RW.csv')\n",
    "\n",
    "#read test_data\n",
    "X_test = pd.read_csv('Data/test_data/30_holdout_X_test_len7_RW.csv')\n",
    "Y_test = pd.read_csv('Data/test_data/30_holdout_Y_test_len7_RW.csv')\n",
    "\n",
    "roc_plot_name = 'Plant-DTI: RW-L7: ROC RF'\n",
    "\n",
    "#Model training data with RF classifier (100 trees)\n",
    "rf_clf=RandomForestClassifier(n_estimators= 100,random_state= 100,oob_score=True)\n",
    "rf_clf= rf_clf.fit(X_train, Y_train['class'])\n",
    "\n",
    "#save model .sav\n",
    "filename = 'OUTPUT/example_model.sav'\n",
    "pickle.dump(rf_clf, open(filename, 'wb'))\n",
    "\n",
    "\n",
    "#For showing model evaluation results\n",
    "print(color.BOLD+color.UNDERLINE+\"Model Evaluation: Random Forest \\n\"+ color.END)\n",
    "\n",
    "#Predict test dataset\n",
    "Y_pred = rf_clf.predict(X_test)\n",
    "\n",
    "\n",
    "#print confusion matrix\n",
    "conf=confusion_matrix(Y_test, Y_pred)\n",
    "print(color.BOLD+'\\t'+'\\t'+'\\t'+'\\t'+'Confusion Matrix'+ color.END)\n",
    "print(color.BOLD+'\\t'+'\\t'+'\\t'+'Predict non-interact'+'\\t'+'\\t'+'Predict interact'+ color.END)\n",
    "print(color.BOLD+'Actual non-interact'+'\\t'+'\\t'+ color.END+ '%6d'%conf[0][0]+'\\t'+'\\t'+'\\t'+'\\t'+'%5d'%conf[0][1])\n",
    "print(color.BOLD+'Actual interact'+'\\t'+'\\t'+'\\t'+ color.END+ '%6d'%conf[1][0]+'\\t'+'\\t'+'\\t'+'\\t'+'%5d'%conf[1][1]+\"\\n\"+\"\\n\")\n",
    "\n",
    "#print classification report\n",
    "class_report_dict=classification_report(Y_test, Y_pred, digits=3, output_dict=True)\n",
    "\n",
    "#print classification report\n",
    "from sklearn.metrics import classification_report, confusion_matrix, accuracy_score,precision_score,recall_score,f1_score\n",
    "print(color.BOLD+\"Precision (PPV): \"+ color.END, '%.4f' %precision_score(Y_test, Y_pred),\"\\t\"+\n",
    "      color.BOLD+\"Recall: \"+ color.END, '%.4f' %recall_score(Y_test, Y_pred),\"\\n\"+\n",
    "      color.BOLD+\"Accuracy: \"+ color.END, '%.4f' %accuracy_score(Y_test, Y_pred),\"\\t\",\"\\t\"+\n",
    "      color.BOLD+\"F1-score: \"+ color.END, '%.4f' %f1_score(Y_test, Y_pred),\"\\n\"+\n",
    "      color.BOLD+\"NPV: \"+ color.END, '%.3f' %class_report_dict['0']['precision'],\"\\t\",\"\\t\",\"\\t\"+ \n",
    "      color.BOLD+\"Specificity: \"+ color.END, '%.4f' %class_report_dict['0']['recall'],\"\\n\",\"\\n\")\n",
    "\n",
    "print(color.BOLD+\"Classification Report: \\n\"+ color.END,classification_report(Y_test, Y_pred))\n",
    "\n",
    "\n",
    "#For ROC plot\n",
    "\n",
    "# Calculate the fpr and tpr for all thresholds of the classification\n",
    "#calculate prob of class in all data in test-set\n",
    "probs = rf_clf.predict_proba(X_test)\n",
    "\n",
    "#select only positive class prob\n",
    "preds = probs[:,1]\n",
    "fpr, tpr, threshold = metrics.roc_curve(Y_test, preds)\n",
    "roc_auc = metrics.auc(fpr, tpr)\n",
    "\n",
    "legend_properties = {'weight':'bold'}\n",
    "\n",
    "# plt ROC curve\n",
    "import matplotlib.pyplot as plt\n",
    "plt.title(roc_plot_name, weight='bold')\n",
    "plt.plot(fpr, tpr, 'b', label = 'AUC = %0.2f' % roc_auc)\n",
    "plt.legend(loc = 'lower right',prop=legend_properties)\n",
    "plt.plot([0, 1], [0, 1],'r--')\n",
    "plt.xlim([0, 1])\n",
    "plt.ylim([0, 1])\n",
    "plt.ylabel('True Positive Rate')\n",
    "plt.xlabel('False Positive Rate')\n",
    "plt.show()\n"
   ]
  }
 ],
 "metadata": {
  "kernelspec": {
   "display_name": "Python 3",
   "language": "python",
   "name": "python3"
  },
  "language_info": {
   "codemirror_mode": {
    "name": "ipython",
    "version": 3
   },
   "file_extension": ".py",
   "mimetype": "text/x-python",
   "name": "python",
   "nbconvert_exporter": "python",
   "pygments_lexer": "ipython3",
   "version": "3.7.1"
  }
 },
 "nbformat": 4,
 "nbformat_minor": 2
}
